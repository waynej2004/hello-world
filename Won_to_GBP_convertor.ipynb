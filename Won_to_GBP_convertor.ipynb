{
  "nbformat": 4,
  "nbformat_minor": 0,
  "metadata": {
    "colab": {
      "provenance": [],
      "authorship_tag": "ABX9TyOLxUfcHobA3mbD9KHsPR3k",
      "include_colab_link": true
    },
    "kernelspec": {
      "name": "python3",
      "display_name": "Python 3"
    },
    "language_info": {
      "name": "python"
    }
  },
  "cells": [
    {
      "cell_type": "markdown",
      "metadata": {
        "id": "view-in-github",
        "colab_type": "text"
      },
      "source": [
        "<a href=\"https://colab.research.google.com/github/waynej2004/hello-world/blob/master/Won_to_GBP_convertor.ipynb\" target=\"_parent\"><img src=\"https://colab.research.google.com/assets/colab-badge.svg\" alt=\"Open In Colab\"/></a>"
      ]
    },
    {
      "cell_type": "markdown",
      "source": [
        "The following is a simple converstion of South Korean Won to GB"
      ],
      "metadata": {
        "id": "2-hdhLkAnA8F"
      }
    },
    {
      "cell_type": "code",
      "execution_count": 1,
      "metadata": {
        "colab": {
          "base_uri": "https://localhost:8080/"
        },
        "id": "RCNZmzzhmwxh",
        "outputId": "c76e6b65-9357-4cf9-8bc0-7210b219f74f"
      },
      "outputs": [
        {
          "output_type": "stream",
          "name": "stdout",
          "text": [
            "100000 KRW is equivalent to 54.00 GBP\n"
          ]
        }
      ],
      "source": [
        "def won_to_gbp(won):\n",
        "  \"\"\"\n",
        "  Converts South Korean Won (KRW) to Great British Pounds (GBP).\n",
        "\n",
        "  Args:\n",
        "    won: The amount in South Korean Won.\n",
        "\n",
        "  Returns:\n",
        "    The equivalent amount in Great British Pounds.\n",
        "\n",
        "  Note:\n",
        "    This function uses a simplified exchange rate for demonstration purposes.\n",
        "    For accurate conversions, use a reliable real-time exchange rate API.\n",
        "  \"\"\"\n",
        "  exchange_rate = 0.00054  # Example exchange rate (KRW to GBP) - Replace with actual rate\n",
        "\n",
        "  return won * exchange_rate\n",
        "\n",
        "# Example usage:\n",
        "won_amount = 100000  # 100,000 South Korean Won\n",
        "gbp_amount = won_to_gbp(won_amount)\n",
        "\n",
        "print(f\"{won_amount} KRW is equivalent to {gbp_amount:.2f} GBP\")"
      ]
    },
    {
      "cell_type": "markdown",
      "source": [
        "This python function allows the user to input an amount of Won"
      ],
      "metadata": {
        "id": "IaG-NGP6nnNC"
      }
    },
    {
      "cell_type": "code",
      "source": [
        "def won_to_gbp():\n",
        "  \"\"\"\n",
        "  Converts South Korean Won (KRW) to Great British Pounds (GBP).\n",
        "\n",
        "  Prompts the user for the KRW amount and displays the converted GBP amount.\n",
        "\n",
        "  Note:\n",
        "    This function uses a simplified exchange rate for demonstration purposes.\n",
        "    For accurate conversions, use a reliable real-time exchange rate API.\n",
        "  \"\"\"\n",
        "  exchange_rate = 0.00054  # Example exchange rate (KRW to GBP) - Replace with actual rate\n",
        "\n",
        "  try:\n",
        "    won_amount = float(input(\"Enter the amount in South Korean Won: \"))\n",
        "    gbp_amount = won_amount * exchange_rate\n",
        "    print(f\"{won_amount} KRW is equivalent to {gbp_amount:.2f} GBP\")\n",
        "  except ValueError:\n",
        "    print(\"Invalid input. Please enter a numeric value.\")\n",
        "\n",
        "# Call the function to start the conversion\n",
        "won_to_gbp()"
      ],
      "metadata": {
        "colab": {
          "base_uri": "https://localhost:8080/"
        },
        "id": "GRfU0ctBm_yb",
        "outputId": "b0bcdbc4-003e-4c9c-aa01-7bd1883caf8d"
      },
      "execution_count": 2,
      "outputs": [
        {
          "output_type": "stream",
          "name": "stdout",
          "text": [
            "Enter the amount in South Korean Won: 3000000\n",
            "3000000.0 KRW is equivalent to 1620.00 GBP\n"
          ]
        }
      ]
    }
  ]
}