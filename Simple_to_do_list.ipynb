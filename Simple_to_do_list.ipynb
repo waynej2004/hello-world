{
  "cells": [
    {
      "cell_type": "markdown",
      "metadata": {
        "id": "view-in-github",
        "colab_type": "text"
      },
      "source": [
        "<a href=\"https://colab.research.google.com/github/waynej2004/hello-world/blob/master/Simple_to_do_list.ipynb\" target=\"_parent\"><img src=\"https://colab.research.google.com/assets/colab-badge.svg\" alt=\"Open In Colab\"/></a>"
      ]
    },
    {
      "cell_type": "code",
      "execution_count": null,
      "metadata": {
        "colab": {
          "background_save": true,
          "base_uri": "https://localhost:8080/"
        },
        "id": "BvpXU_h7dJ6k",
        "outputId": "90ecffcf-842c-474f-d9f0-c97d3322ec02"
      },
      "outputs": [
        {
          "output_type": "stream",
          "name": "stdout",
          "text": [
            "\n",
            "To-Do List App\n",
            "1. Add Task\n",
            "2. View Tasks\n",
            "3. Mark Task as Completed\n",
            "4. Delete Task\n",
            "5. Quit\n",
            "Enter your choice: 2\n",
            "No tasks found.\n",
            "\n",
            "To-Do List App\n",
            "1. Add Task\n",
            "2. View Tasks\n",
            "3. Mark Task as Completed\n",
            "4. Delete Task\n",
            "5. Quit\n"
          ]
        }
      ],
      "source": [
        "import json\n",
        "\n",
        "def load_tasks():\n",
        "  \"\"\"Loads tasks from a file.\"\"\"\n",
        "  try:\n",
        "    with open('tasks.json', 'r') as f:\n",
        "      return json.load(f)\n",
        "  except FileNotFoundError:\n",
        "    return []\n",
        "\n",
        "def save_tasks(tasks):\n",
        "  \"\"\"Saves tasks to a file.\"\"\"\n",
        "  with open('tasks.json', 'w') as f:\n",
        "    json.dump(tasks, f, indent=2)\n",
        "\n",
        "def add_task(tasks):\n",
        "  \"\"\"Adds a new task to the list.\"\"\"\n",
        "  task = input(\"Enter task: \")\n",
        "  tasks.append({\"task\": task, \"completed\": False})\n",
        "  save_tasks(tasks)\n",
        "  print(\"Task added successfully!\")\n",
        "\n",
        "def view_tasks(tasks):\n",
        "  \"\"\"Displays all tasks.\"\"\"\n",
        "  if not tasks:\n",
        "    print(\"No tasks found.\")\n",
        "  else:\n",
        "    print(\"Tasks:\")\n",
        "    for i, task in enumerate(tasks):\n",
        "      status = \"Completed\" if task[\"completed\"] else \"Pending\"\n",
        "      print(f\"{i+1}. {task['task']} ({status})\")\n",
        "\n",
        "def mark_task_completed(tasks):\n",
        "  \"\"\"Marks a task as completed.\"\"\"\n",
        "  view_tasks(tasks)\n",
        "  try:\n",
        "    index = int(input(\"Enter task number to mark as completed: \")) - 1\n",
        "    if 0 <= index < len(tasks):\n",
        "      tasks[index][\"completed\"] = True\n",
        "      save_tasks(tasks)\n",
        "      print(\"Task marked as completed.\")\n",
        "    else:\n",
        "      print(\"Invalid task number.\")\n",
        "  except ValueError:\n",
        "    print(\"Invalid input.\")\n",
        "\n",
        "def delete_task(tasks):\n",
        "  \"\"\"Deletes a task from the list.\"\"\"\n",
        "  view_tasks(tasks)\n",
        "  try:\n",
        "    index = int(input(\"Enter task number to delete: \")) - 1\n",
        "    if 0 <= index < len(tasks):\n",
        "      del tasks[index]\n",
        "      save_tasks(tasks)\n",
        "      print(\"Task deleted successfully.\")\n",
        "    else:\n",
        "      print(\"Invalid task number.\")\n",
        "  except ValueError:\n",
        "    print(\"Invalid input.\")\n",
        "\n",
        "if __name__ == \"__main__\":\n",
        "  tasks = load_tasks()\n",
        "\n",
        "  while True:\n",
        "    print(\"\\nTo-Do List App\")\n",
        "    print(\"1. Add Task\")\n",
        "    print(\"2. View Tasks\")\n",
        "    print(\"3. Mark Task as Completed\")\n",
        "    print(\"4. Delete Task\")\n",
        "    print(\"5. Quit\")\n",
        "\n",
        "    choice = input(\"Enter your choice: \")\n",
        "\n",
        "    if choice == '1':\n",
        "      add_task(tasks)\n",
        "    elif choice == '2':\n",
        "      view_tasks(tasks)\n",
        "    elif choice == '3':\n",
        "      mark_task_completed(tasks)\n",
        "    elif choice == '4':\n",
        "      delete_task(tasks)\n",
        "    elif choice == '5':\n",
        "      print(\"Goodbye!\")\n",
        "      break\n",
        "    else:\n",
        "      print(\"Invalid choice. Please try again.\")"
      ]
    }
  ],
  "metadata": {
    "colab": {
      "provenance": [],
      "authorship_tag": "ABX9TyNd8XXd2C84WXQYGp2xhvax",
      "include_colab_link": true
    },
    "kernelspec": {
      "display_name": "Python 3",
      "name": "python3"
    },
    "language_info": {
      "name": "python"
    }
  },
  "nbformat": 4,
  "nbformat_minor": 0
}